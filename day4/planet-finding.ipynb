{
 "cells": [
  {
   "cell_type": "code",
   "execution_count": 1,
   "metadata": {
    "collapsed": false
   },
   "outputs": [],
   "source": [
    "%matplotlib inline\n",
    "\n",
    "from matplotlib import pyplot as plt\n",
    "import numpy as np\n",
    "import scipy\n",
    "from scipy import optimize\n",
    "\n",
    "\n",
    "import rv_helper"
   ]
  },
  {
   "cell_type": "code",
   "execution_count": 2,
   "metadata": {
    "collapsed": true
   },
   "outputs": [],
   "source": [
    "filename = \"UID_0079248_RVC_002.dat\""
   ]
  },
  {
   "cell_type": "markdown",
   "metadata": {},
   "source": [
    "# Download data"
   ]
  },
  {
   "cell_type": "code",
   "execution_count": 3,
   "metadata": {
    "collapsed": false
   },
   "outputs": [],
   "source": [
    "try:\n",
    "    # import block for Python 3\n",
    "    from urllib.request import urlopen\n",
    "\n",
    "except ImportError:\n",
    "    # if that fails, fall back to Python 2 import block\n",
    "    from urllib2 import urlopen\n",
    "    \n",
    "url = \"http://exoplanetarchive.ipac.caltech.edu/data/ExoData/0079/0079248/data/UID_0079248_RVC_002.tbl\"\n",
    "url_request = urlopen(url)\n",
    "data = url_request.read().decode()\n",
    "with open(filename, \"w\") as f:\n",
    "    f.write(data)"
   ]
  },
  {
   "cell_type": "markdown",
   "metadata": {},
   "source": [
    "# Read and view data"
   ]
  },
  {
   "cell_type": "code",
   "execution_count": 4,
   "metadata": {
    "collapsed": false
   },
   "outputs": [],
   "source": [
    "date, rv, rv_err = np.loadtxt(filename, skiprows=21, unpack=True)\n",
    "time = date * 24 * 3600 # convert from days to seconds"
   ]
  },
  {
   "cell_type": "code",
   "execution_count": 5,
   "metadata": {
    "collapsed": false
   },
   "outputs": [
    {
     "data": {
      "text/plain": [
       "<matplotlib.text.Text at 0x108e53f28>"
      ]
     },
     "execution_count": 5,
     "metadata": {},
     "output_type": "execute_result"
    },
    {
     "data": {
      "image/png": "[encoded data removed]",
      "text/plain": [
       "<matplotlib.figure.Figure at 0x108cc5630>"
      ]
     },
     "metadata": {},
     "output_type": "display_data"
    }
   ],
   "source": [
    "plt.errorbar(time, rv, yerr=rv_err, linestyle=\"\")\n",
    "plt.xlabel(\"time [s]\")\n",
    "plt.ylabel(\"Radial Velocity [m/s]\")\n",
    "plt.title(\"14 Her\")"
   ]
  },
  {
   "cell_type": "code",
   "execution_count": 6,
   "metadata": {
    "collapsed": false
   },
   "outputs": [],
   "source": [
    "def RV_equation(t, t_0, P, e, K, V_0, phi):\n",
    "    theta = rv_helper.time_to_theta(t, t_0, P, e)\n",
    "    v_r = V_0 + K*(e*np.cos(phi) + np.cos(phi + theta))\n",
    "    return v_r"
   ]
  },
  {
   "cell_type": "code",
   "execution_count": 7,
   "metadata": {
    "collapsed": false
   },
   "outputs": [
    {
     "name": "stderr",
     "output_type": "stream",
     "text": [
      "/Users/egentry/tmp/lamat-2016-solutions/day4/rv_helper.py:42: RuntimeWarning: invalid value encountered in double_scalars\n",
      "  theta = 2 * np.arctan(((1+e)/(1-e))**.5 * np.tan(etas/2.))\n"
     ]
    }
   ],
   "source": [
    "initial_params = (time[0],\n",
    "                  (time.max()-time.min())/2,\n",
    "                  0,\n",
    "                  rv.max() - rv.min(),\n",
    "                  rv.mean(),\n",
    "                  0)\n",
    "params, pcov = optimize.curve_fit(RV_equation, time, rv, p0=initial_params, sigma=rv_err)"
   ]
  },
  {
   "cell_type": "code",
   "execution_count": 8,
   "metadata": {
    "collapsed": false
   },
   "outputs": [
    {
     "data": {
      "text/plain": [
       "<matplotlib.legend.Legend at 0x10b9e9e48>"
      ]
     },
     "execution_count": 8,
     "metadata": {},
     "output_type": "execute_result"
    },
    {
     "data": {
      "image/png": "[encoded data removed]",
      "text/plain": [
       "<matplotlib.figure.Figure at 0x10b91fda0>"
      ]
     },
     "metadata": {},
     "output_type": "display_data"
    }
   ],
   "source": [
    "plt.errorbar(time, rv, yerr=rv_err, linestyle=\"\", label=\"data\")\n",
    "times_synthetic = np.linspace(time[0], time[-1])\n",
    "plt.plot(times_synthetic, RV_equation(times_synthetic, *params), label=\"fit\")\n",
    "\n",
    "plt.xlabel(\"time [s]\")\n",
    "plt.ylabel(\"Radial Velocity [m/s]\")\n",
    "plt.title(\"14 Her\")\n",
    "plt.legend(loc=\"best\")\n"
   ]
  },
  {
   "cell_type": "code",
   "execution_count": 9,
   "metadata": {
    "collapsed": false
   },
   "outputs": [
    {
     "name": "stdout",
     "output_type": "stream",
     "text": [
      "Orbital period: 1749.68 days\n",
      "Orbital eccentricity: 0.39\n",
      "Velocity amplitude: 92.07 m/s\n"
     ]
    }
   ],
   "source": [
    "print(\"Orbital period: {:.2f} days\".format(params[1] / (3600*24)))\n",
    "print(\"Orbital eccentricity: {:.2f}\".format(params[2]))\n",
    "print(\"Velocity amplitude: {:.2f} m/s\".format(params[3]))"
   ]
  }
 ],
 "metadata": {
  "kernelspec": {
   "display_name": "Python 3",
   "language": "python",
   "name": "python3"
  },
  "language_info": {
   "codemirror_mode": {
    "name": "ipython",
    "version": 3
   },
   "file_extension": ".py",
   "mimetype": "text/x-python",
   "name": "python",
   "nbconvert_exporter": "python",
   "pygments_lexer": "ipython3",
   "version": "3.4.3"
  }
 },
 "nbformat": 4,
 "nbformat_minor": 0
}
