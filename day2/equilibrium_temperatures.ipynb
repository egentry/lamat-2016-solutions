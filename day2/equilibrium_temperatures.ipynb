{
 "cells": [
  {
   "cell_type": "code",
   "execution_count": 1,
   "metadata": {
    "collapsed": false
   },
   "outputs": [
    {
     "name": "stderr",
     "output_type": "stream",
     "text": [
      "/Users/egentry/anaconda/lib/python3.4/site-packages/IPython/kernel/__init__.py:13: ShimWarning: The `IPython.kernel` package has been deprecated. You should import from ipykernel or jupyter_client instead.\n",
      "  \"You should import from ipykernel or jupyter_client instead.\", ShimWarning)\n"
     ]
    }
   ],
   "source": [
    "from __future__ import print_function\n",
    "\n",
    "%matplotlib inline\n",
    "from matplotlib import pyplot as plt\n",
    "import numpy as np\n",
    "\n",
    "from astropy import constants as const\n",
    "from astropy import units\n",
    "\n",
    "# for nicer looking plots. You can comment this if you don't have seaborn\n",
    "import seaborn as sns; sns.set(context=\"poster\")"
   ]
  },
  {
   "cell_type": "markdown",
   "metadata": {},
   "source": [
    "# Activity Description\n",
    "see: https://docs.google.com/document/d/1ALSBqY4wv7BfCtdi1uFhnFNNlMcIHSg1VooC6rgxvds/edit?usp=sharing"
   ]
  },
  {
   "cell_type": "markdown",
   "metadata": {},
   "source": [
    "# Define and test functions"
   ]
  },
  {
   "cell_type": "code",
   "execution_count": 2,
   "metadata": {
    "collapsed": true
   },
   "outputs": [],
   "source": [
    "def equilibrium_temperature(luminosity, distance, albedo=0):\n",
    "    \"\"\"\n",
    "    Calculates the equilibrium temperature of a planet, assuming blackbody radiation\n",
    "    and thermodynamic equilibrium.\n",
    "    \n",
    "    Parameters\n",
    "    ----------\n",
    "    luminosity : float\n",
    "        luminosity of the host star [ergs s**-1]\n",
    "        \n",
    "    distance : float\n",
    "        distance between the star and the planet [cm]\n",
    "        (assumes circular orbits)\n",
    "    \n",
    "    albedo : float\n",
    "        albedo of the planet (0 for perfect absorber, 1 for perfect reflector)\n",
    "        \n",
    "    \n",
    "    Returns\n",
    "    -------\n",
    "    T_eq : float\n",
    "        Equilibrium temperature of the planet\n",
    "    \"\"\"\n",
    "    \n",
    "    T_eq = (luminosity / distance**2)**.25  \\\n",
    "            * ((1-albedo) / (16 * np.pi * const.sigma_sb.cgs.value))**.25\n",
    "    return T_eq"
   ]
  },
  {
   "cell_type": "markdown",
   "metadata": {},
   "source": [
    "### Test `equilibrium_temperature`:\n",
    "(there are better ways to do testing using libraries like `pytest`, `nose` or `unittest`)"
   ]
  },
  {
   "cell_type": "code",
   "execution_count": 3,
   "metadata": {
    "collapsed": false
   },
   "outputs": [
    {
     "name": "stdout",
     "output_type": "stream",
     "text": [
      "Earth equilibrium temperature:  278.6565418182094  K\n"
     ]
    }
   ],
   "source": [
    "T_eq_earth = equilibrium_temperature(const.L_sun.cgs.value, units.AU.to(units.cm))\n",
    "print(\"Earth equilibrium temperature: \", T_eq_earth, \" K\")"
   ]
  },
  {
   "cell_type": "markdown",
   "metadata": {},
   "source": [
    "### Mass-luminosity relation"
   ]
  },
  {
   "cell_type": "code",
   "execution_count": 4,
   "metadata": {
    "collapsed": true
   },
   "outputs": [],
   "source": [
    "def luminosity_from_mass(mass):\n",
    "    \"\"\"\n",
    "    Convert mass to luminosity using a standard mass-luminosity relation\n",
    "    \n",
    "    Parameters\n",
    "    ----------\n",
    "    mass : float\n",
    "        stellar mass [g]\n",
    "        \n",
    "    Returns\n",
    "    -------\n",
    "    luminosity : float\n",
    "        stellar luminosity [ergs s**-1]\n",
    "        \n",
    "    Notes\n",
    "    -----\n",
    "    not vectorized.\n",
    "        `mass` cannot be an array\n",
    "    \n",
    "    \n",
    "    Sources\n",
    "    -------\n",
    "    Maurizio & Cassisi (2005) Evolution of stars and stellar populations\n",
    "        http://books.google.com/books?id=r1dNzr8viRYC&lpg=PA138&dq=Mass-Luminosity%20relation&lr=&client=firefox-a&pg=PA138#v=onepage&q=&f=false\n",
    "    \n",
    "    Nebojsa (2004) Advanced astrophysics\n",
    "        http://books.google.com/books?id=-ljdYMmI0EIC&lpg=PA19&ots=VdMUIiCdP_&dq=Mass-luminosity%20relation&pg=PA19#v=onepage&q=&f=false\n",
    "        \n",
    "    \"\"\"\n",
    "    # convert to solar units\n",
    "    mass /= const.M_sun.cgs.value\n",
    "    \n",
    "    if mass < .43:\n",
    "        luminosity = .23 * (mass)**2.3\n",
    "    elif mass < 2:\n",
    "        luminosity = (mass)**4\n",
    "    elif mass < 20:\n",
    "        luminosity = 1.5 * (mass)**3.5\n",
    "    else:\n",
    "        luminosity = 3200\n",
    "        \n",
    "    # convert back into cgs units\n",
    "    luminosity *= const.L_sun.cgs.value\n",
    "    \n",
    "    return luminosity\n",
    "    \n"
   ]
  },
  {
   "cell_type": "markdown",
   "metadata": {},
   "source": [
    "### test `luminosity_from_mass`:"
   ]
  },
  {
   "cell_type": "code",
   "execution_count": 5,
   "metadata": {
    "collapsed": false
   },
   "outputs": [
    {
     "name": "stdout",
     "output_type": "stream",
     "text": [
      "OK\n"
     ]
    }
   ],
   "source": [
    "if np.isclose(luminosity_from_mass(const.M_sun.cgs.value) / const.L_sun.cgs.value, 1 ):\n",
    "    print(\"OK\")\n",
    "else:\n",
    "    print(\"Error: luminosity_from_mass gave wrong answer\")"
   ]
  },
  {
   "cell_type": "markdown",
   "metadata": {},
   "source": [
    "### Equilibrium temperature as a function of mass\n"
   ]
  },
  {
   "cell_type": "code",
   "execution_count": 6,
   "metadata": {
    "collapsed": true
   },
   "outputs": [],
   "source": [
    "def equilibrium_temperature_from_mass(mass, distance, albedo=0):\n",
    "    return equilibrium_temperature(luminosity_from_mass(mass),\n",
    "                                   distance,\n",
    "                                   albedo = albedo)"
   ]
  },
  {
   "cell_type": "markdown",
   "metadata": {},
   "source": [
    "### test `equilibrium_temperature_from_mass`"
   ]
  },
  {
   "cell_type": "code",
   "execution_count": 7,
   "metadata": {
    "collapsed": false
   },
   "outputs": [
    {
     "name": "stdout",
     "output_type": "stream",
     "text": [
      "OK\n"
     ]
    }
   ],
   "source": [
    "if np.isclose(equilibrium_temperature_from_mass(const.M_sun.cgs.value, units.AU.to(units.cm)),\n",
    "           equilibrium_temperature(const.L_sun.cgs.value, units.AU.to(units.cm))):\n",
    "    print(\"OK\")\n",
    "else:\n",
    "    print(\"Error: equilibrium_temperature_from_mass gave wrong answer\")"
   ]
  },
  {
   "cell_type": "markdown",
   "metadata": {},
   "source": [
    "# Results for activities"
   ]
  },
  {
   "cell_type": "code",
   "execution_count": 8,
   "metadata": {
    "collapsed": false
   },
   "outputs": [
    {
     "name": "stdout",
     "output_type": "stream",
     "text": [
      "albedo = 0\n",
      "Earth equilibrium temperature:  278.6565418182094  K\n",
      "\n",
      "albedo =  0.3\n",
      "Earth equilibrium temperature:  254.88469198174965  K\n"
     ]
    }
   ],
   "source": [
    "print(\"albedo = 0\")\n",
    "T_eq_earth = equilibrium_temperature(const.L_sun.cgs.value, units.AU.to(units.cm))\n",
    "print(\"Earth equilibrium temperature: \", T_eq_earth, \" K\")\n",
    "print()\n",
    "\n",
    "Earth_albedo = .3\n",
    "print(\"albedo = \", Earth_albedo)\n",
    "T_eq_earth = equilibrium_temperature(const.L_sun.cgs.value,\n",
    "                                     units.AU.to(units.cm),\n",
    "                                     albedo=Earth_albedo)\n",
    "print(\"Earth equilibrium temperature: \", T_eq_earth, \" K\")"
   ]
  },
  {
   "cell_type": "code",
   "execution_count": 9,
   "metadata": {
    "collapsed": false
   },
   "outputs": [
    {
     "name": "stdout",
     "output_type": "stream",
     "text": [
      "Earth equilibrium temperature from lower mass sun:  267.510280145481\n",
      "For a 10 K change in T_eq, the sun would need to be  96 % of its current mass\n"
     ]
    }
   ],
   "source": [
    "mass = .96 * const.M_sun.cgs.value\n",
    "luminosity = luminosity_from_mass(mass)\n",
    "T_eq_earth = equilibrium_temperature(luminosity, units.AU.to(units.cm))\n",
    "\n",
    "print(\"Earth equilibrium temperature from lower mass sun: \", T_eq_earth)\n",
    "\n",
    "print(\"For a 10 K change in T_eq, the sun would need to be \", \n",
    "      round(100*(mass / const.M_sun.cgs.value)),\n",
    "      \"% of its current mass\")"
   ]
  },
  {
   "cell_type": "markdown",
   "metadata": {},
   "source": [
    "### Get equilibrium temperatures of all the planets"
   ]
  },
  {
   "cell_type": "code",
   "execution_count": 10,
   "metadata": {
    "collapsed": false
   },
   "outputs": [],
   "source": [
    "# the better way to do this is with objects,\n",
    "# but we're not going to teach object-oriented programming in this workshop\n",
    "\n",
    "# tuples should be (\"name\", distance [in cm])\n",
    "planets = [\n",
    "    (\"Mercury\", 5.79e12),\n",
    "    (\"Venus\",   1.08e13),\n",
    "    (\"Earth\", 1.50e13),\n",
    "    (\"Mars\", 2.28e13),\n",
    "    (\"Jupiter\", 7.78e13),\n",
    "    (\"Saturn\", 1.43e14),\n",
    "    (\"Uranus\", 2.87e14),\n",
    "    (\"Neptune\", 4.50e14),\n",
    "    (\"Pluto\", 5.90e14)\n",
    "]\n",
    "\n",
    "solar_system_T_eqs = dict()\n",
    "for planet in planets:\n",
    "    solar_system_T_eqs[planet[0]] = equilibrium_temperature(const.L_sun.cgs.value,\n",
    "                                                            planet[1])"
   ]
  },
  {
   "cell_type": "code",
   "execution_count": 11,
   "metadata": {
    "collapsed": false,
    "scrolled": true
   },
   "outputs": [
    {
     "data": {
      "text/plain": [
       "{'Earth': 278.2827712762738,\n",
       " 'Jupiter': 122.19182482667804,\n",
       " 'Mars': 225.71713316322044,\n",
       " 'Mercury': 447.9119685588296,\n",
       " 'Neptune': 50.80725039768863,\n",
       " 'Pluto': 44.37168725926447,\n",
       " 'Saturn': 90.12887089882359,\n",
       " 'Uranus': 63.6196097526564,\n",
       " 'Venus': 327.9593910947304}"
      ]
     },
     "execution_count": 11,
     "metadata": {},
     "output_type": "execute_result"
    }
   ],
   "source": [
    "solar_system_T_eqs\n",
    "\n",
    "# if you wanted to keep the solar system in order, \n",
    "# you could have used collections.OrderedDict instead of dict"
   ]
  },
  {
   "cell_type": "markdown",
   "metadata": {},
   "source": [
    "# Calculate T_eq for all exoplanets"
   ]
  },
  {
   "cell_type": "code",
   "execution_count": 12,
   "metadata": {
    "collapsed": false
   },
   "outputs": [],
   "source": [
    "import exoplanets"
   ]
  },
  {
   "cell_type": "code",
   "execution_count": 13,
   "metadata": {
    "collapsed": true
   },
   "outputs": [],
   "source": [
    "exoplanets.download_data()\n",
    "data = exoplanets.parse_data()"
   ]
  },
  {
   "cell_type": "code",
   "execution_count": 14,
   "metadata": {
    "collapsed": false
   },
   "outputs": [
    {
     "name": "stdout",
     "output_type": "stream",
     "text": [
      "column names of `data`: \n"
     ]
    },
    {
     "data": {
      "text/plain": [
       "('pl_hostname',\n",
       " 'pl_letter',\n",
       " 'pl_orbsmax',\n",
       " 'pl_orbsmaxerr1',\n",
       " 'pl_orbsmaxerr2',\n",
       " 'pl_bmassj',\n",
       " 'pl_bmassjerr1',\n",
       " 'pl_bmassjerr2',\n",
       " 'st_lum')"
      ]
     },
     "execution_count": 14,
     "metadata": {},
     "output_type": "execute_result"
    }
   ],
   "source": [
    "print(\"column names of `data`: \")\n",
    "data.dtype.names"
   ]
  },
  {
   "cell_type": "code",
   "execution_count": 15,
   "metadata": {
    "collapsed": false
   },
   "outputs": [],
   "source": [
    "luminosities = const.L_sun.cgs.value * 10**data[\"st_lum\"]\n",
    "distances    = units.AU.to(units.cm) * data[\"pl_orbsmax\"]"
   ]
  },
  {
   "cell_type": "code",
   "execution_count": 16,
   "metadata": {
    "collapsed": false
   },
   "outputs": [
    {
     "data": {
      "text/plain": [
       "<matplotlib.text.Text at 0x10b2382e8>"
      ]
     },
     "execution_count": 16,
     "metadata": {},
     "output_type": "execute_result"
    },
    {
     "data": {
      "image/png": "[encoded data removed]",
      "text/plain": [
       "<matplotlib.figure.Figure at 0x10b2a9a20>"
      ]
     },
     "metadata": {},
     "output_type": "display_data"
    }
   ],
   "source": [
    "plt.scatter(distances / units.AU.to(units.cm), \n",
    "            luminosities / const.L_sun.cgs.value)\n",
    "plt.xscale(\"log\")\n",
    "plt.yscale(\"log\")\n",
    "plt.ylim(10**-3, 10**3)\n",
    "\n",
    "plt.xlabel(\"Star-Planet distance [AU]\")\n",
    "plt.ylabel(\"Star luminosity [L_sun]\")"
   ]
  },
  {
   "cell_type": "code",
   "execution_count": 17,
   "metadata": {
    "collapsed": true
   },
   "outputs": [],
   "source": [
    "equilibrium_temperatures = equilibrium_temperature(luminosities, distances)"
   ]
  },
  {
   "cell_type": "code",
   "execution_count": 18,
   "metadata": {
    "collapsed": false
   },
   "outputs": [
    {
     "data": {
      "text/plain": [
       "<matplotlib.text.Text at 0x10e73d550>"
      ]
     },
     "execution_count": 18,
     "metadata": {},
     "output_type": "execute_result"
    },
    {
     "data": {
      "image/png": "[encoded data removed]",
      "text/plain": [
       "<matplotlib.figure.Figure at 0x10e036be0>"
      ]
     },
     "metadata": {},
     "output_type": "display_data"
    }
   ],
   "source": [
    "plt.hist(equilibrium_temperatures)\n",
    "plt.xlabel(\"Equilibrium Temperature [K]\")\n",
    "plt.ylabel(\"Number of planets\")"
   ]
  }
 ],
 "metadata": {
  "kernelspec": {
   "display_name": "Python 3",
   "language": "python",
   "name": "python3"
  },
  "language_info": {
   "codemirror_mode": {
    "name": "ipython",
    "version": 3
   },
   "file_extension": ".py",
   "mimetype": "text/x-python",
   "name": "python",
   "nbconvert_exporter": "python",
   "pygments_lexer": "ipython3",
   "version": "3.4.3"
  }
 },
 "nbformat": 4,
 "nbformat_minor": 0
}
