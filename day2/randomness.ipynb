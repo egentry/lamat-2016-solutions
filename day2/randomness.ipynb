{
 "cells": [
  {
   "cell_type": "code",
   "execution_count": 1,
   "metadata": {
    "collapsed": true
   },
   "outputs": [],
   "source": [
    "from __future__ import print_function # to use Python 3 features\n",
    "%matplotlib inline\n",
    "from matplotlib import pyplot as plt\n",
    "\n",
    "# for prettier plots; you can comment this out if you don't have seaborn\n",
    "import seaborn as sns; sns.set(context=\"poster\")\n",
    "\n",
    "\n",
    "import numpy as np"
   ]
  },
  {
   "cell_type": "markdown",
   "metadata": {},
   "source": [
    "# Activity description\n",
    "See: https://docs.google.com/document/d/1COdCXs4K6kAXLcVvYxG3fqS53l2gzbkDvbbTmm8ZF1U/edit?usp=sharing"
   ]
  },
  {
   "cell_type": "markdown",
   "metadata": {},
   "source": [
    "# Example generation of random samples"
   ]
  },
  {
   "cell_type": "code",
   "execution_count": 2,
   "metadata": {
    "collapsed": false
   },
   "outputs": [
    {
     "name": "stdout",
     "output_type": "stream",
     "text": [
      "[1 0 1 0 1 0 2 2 1 2 0 2 2 0 3 0 0 2 2 1]\n"
     ]
    }
   ],
   "source": [
    "poisson_samples = np.random.poisson(lam=1.5, size=20)\n",
    "print(poisson_samples)"
   ]
  },
  {
   "cell_type": "code",
   "execution_count": 3,
   "metadata": {
    "collapsed": false
   },
   "outputs": [
    {
     "name": "stdout",
     "output_type": "stream",
     "text": [
      "[-7.02049814 -2.30045441 -5.13504563 -4.94898767 -4.97587445 -6.24865014\n",
      " -6.09541327 -5.42786886 -4.6752383  -2.87273604  1.8438644  -1.51010589\n",
      " -3.8991742  -6.51737971 -5.47199126 -3.81987867 -5.406066   -9.64146779\n",
      " -6.18682129 -5.45262979]\n"
     ]
    }
   ],
   "source": [
    "gaussian_samples = np.random.normal(loc=-5.0, scale=2.0, size=20)\n",
    "print(gaussian_samples)"
   ]
  },
  {
   "cell_type": "markdown",
   "metadata": {},
   "source": [
    "# Build dictionary to hold samples"
   ]
  },
  {
   "cell_type": "code",
   "execution_count": 4,
   "metadata": {
    "collapsed": true
   },
   "outputs": [],
   "source": [
    "def add_samples(dictionary_of_samples, key, samples):\n",
    "    \"\"\" `samples` must be a list! \"\"\"\n",
    "    try: \n",
    "        dictionary_of_samples[key] += samples\n",
    "    except KeyError:\n",
    "        # if entry doesn't exist, create a new one\n",
    "        dictionary_of_samples[key] = samples"
   ]
  },
  {
   "cell_type": "markdown",
   "metadata": {},
   "source": [
    "### test `add_samples`\n",
    "(there are better ways to do testing using libraries like `pytest`, `nose` or `unittest`)"
   ]
  },
  {
   "cell_type": "code",
   "execution_count": 5,
   "metadata": {
    "collapsed": false
   },
   "outputs": [
    {
     "name": "stdout",
     "output_type": "stream",
     "text": [
      "OK\n"
     ]
    }
   ],
   "source": [
    "test_dictionary_of_samples = {}\n",
    "\n",
    "key = \"test\"\n",
    "samples = [1,2,3]\n",
    "\n",
    "add_samples(test_dictionary_of_samples, key, samples)\n",
    "add_samples(test_dictionary_of_samples, key, samples)\n",
    "\n",
    "if test_dictionary_of_samples[key] == [1,2,3,1,2,3]:\n",
    "    print(\"OK\")\n",
    "else:\n",
    "    print(\"Error: add_samples isn't behaving right\")"
   ]
  },
  {
   "cell_type": "markdown",
   "metadata": {},
   "source": [
    "# Activity solution"
   ]
  },
  {
   "cell_type": "code",
   "execution_count": 6,
   "metadata": {
    "collapsed": false
   },
   "outputs": [],
   "source": [
    "dictionary_of_samples = {}\n",
    "\n",
    "N_samples = 10\n",
    "\n",
    "key = (\"gaussian\", -5.0, 2.0)\n",
    "gaussian_samples = list(np.random.normal(loc=key[1], scale=key[2], size=N_samples))\n",
    "add_samples(dictionary_of_samples, key, gaussian_samples)\n",
    "\n",
    "key = (\"gaussian\", 10, 1.0)\n",
    "gaussian_samples = list(np.random.normal(loc=key[1], scale=key[2], size=N_samples))\n",
    "add_samples(dictionary_of_samples, key, gaussian_samples)\n",
    "\n",
    "key = (\"poisson\", 1.5)\n",
    "poisson_samples = list(np.random.poisson(lam=key[1], size=N_samples))\n",
    "add_samples(dictionary_of_samples, key, poisson_samples)\n",
    "\n",
    "key = (\"gaussian\", 2.0)\n",
    "poisson_samples = list(np.random.poisson(lam=key[1], size=N_samples))\n",
    "add_samples(dictionary_of_samples, key, poisson_samples)\n"
   ]
  },
  {
   "cell_type": "code",
   "execution_count": 7,
   "metadata": {
    "collapsed": false
   },
   "outputs": [
    {
     "data": {
      "text/plain": [
       "{('gaussian', -5.0, 2.0): [-5.664832581630364,\n",
       "  -0.86705427937108492,\n",
       "  -2.1304259120228703,\n",
       "  -6.5890589492496208,\n",
       "  -3.9365609502839374,\n",
       "  -8.1489284530513046,\n",
       "  -2.2601714391819661,\n",
       "  -6.2980796732950211,\n",
       "  -4.2202247550204568,\n",
       "  -5.3243016989966652],\n",
       " ('gaussian', 2.0): [0, 2, 2, 4, 1, 2, 2, 2, 1, 2],\n",
       " ('gaussian', 10, 1.0): [9.0932110082918811,\n",
       "  9.7976703917524848,\n",
       "  10.906142587917998,\n",
       "  10.301445974014733,\n",
       "  10.088106816950573,\n",
       "  10.092547155526415,\n",
       "  10.025715586921438,\n",
       "  9.8709380990377138,\n",
       "  9.909459545176464,\n",
       "  11.104405060037985],\n",
       " ('poisson', 1.5): [5, 2, 0, 5, 1, 1, 1, 1, 2, 1]}"
      ]
     },
     "execution_count": 7,
     "metadata": {},
     "output_type": "execute_result"
    }
   ],
   "source": [
    "dictionary_of_samples"
   ]
  },
  {
   "cell_type": "markdown",
   "metadata": {},
   "source": [
    "# SDSS extension"
   ]
  },
  {
   "cell_type": "code",
   "execution_count": 8,
   "metadata": {
    "collapsed": false
   },
   "outputs": [],
   "source": [
    "from astroML import datasets\n",
    "data = datasets.fetch_sdss_corrected_spectra()"
   ]
  },
  {
   "cell_type": "code",
   "execution_count": 9,
   "metadata": {
    "collapsed": false
   },
   "outputs": [
    {
     "data": {
      "text/plain": [
       "['lineindex_cln',\n",
       " 'mask',\n",
       " 'coeff0',\n",
       " 'z',\n",
       " 'zerr',\n",
       " 'spec_cln',\n",
       " 'log_NII_Ha',\n",
       " 'evecs',\n",
       " 'coeffs',\n",
       " 'spectra',\n",
       " 'mu',\n",
       " 'norms',\n",
       " 'log_OIII_Hb',\n",
       " 'evals',\n",
       " 'coeff1']"
      ]
     },
     "execution_count": 9,
     "metadata": {},
     "output_type": "execute_result"
    }
   ],
   "source": [
    "# columns available within the data structure\n",
    "data.keys()"
   ]
  },
  {
   "cell_type": "code",
   "execution_count": 10,
   "metadata": {
    "collapsed": false
   },
   "outputs": [],
   "source": [
    "def separate_redshifts_of_galaxies(data):\n",
    "    \"\"\"\n",
    "    Filters the SDSS data, into two lists of redshifts:\n",
    "    one for star formation dominated galaxies and one for AGN-dominated galaxies\n",
    "    \n",
    "    Parameters\n",
    "    ----------\n",
    "    data : npz file\n",
    "        Must be the data structure returned from fetch_sdss_corrected_spectra()\n",
    "    \n",
    "    Returns\n",
    "    -------\n",
    "    star_formation_dominated_redshifts : list\n",
    "    agn_dominated_redshifts : list\n",
    "    \n",
    "    \"\"\"\n",
    "    \n",
    "    star_formation_dominated = (data[\"lineindex_cln\"] == 4)\n",
    "    agn_dominated            = (data[\"lineindex_cln\"] == 5)\n",
    "    \n",
    "    star_formation_dominated_redshifts = list(data[\"z\"][star_formation_dominated] )\n",
    "    agn_dominated_redshifts            = list(data[\"z\"][agn_dominated] )\n",
    "    \n",
    "    return star_formation_dominated_redshifts, agn_dominated_redshifts\n",
    "    \n",
    "star_formation_dominated_redshifts, agn_dominated_redshifts = separate_redshifts_of_galaxies(data)"
   ]
  },
  {
   "cell_type": "code",
   "execution_count": 11,
   "metadata": {
    "collapsed": false
   },
   "outputs": [
    {
     "data": {
      "text/plain": [
       "<matplotlib.legend.Legend at 0x10b43a978>"
      ]
     },
     "execution_count": 11,
     "metadata": {},
     "output_type": "execute_result"
    },
    {
     "data": {
      "image/png": "[encoded data removed]",
      "text/plain": [
       "<matplotlib.figure.Figure at 0x10b43abe0>"
      ]
     },
     "metadata": {},
     "output_type": "display_data"
    }
   ],
   "source": [
    "plt.hist(star_formation_dominated_redshifts, \n",
    "         normed=True, label=\"Star Forming\")\n",
    "plt.hist(agn_dominated_redshifts, \n",
    "         normed=True, label=\"AGN\")\n",
    "\n",
    "plt.title(\"Galaxy redshifts by classification\")\n",
    "plt.xlabel(\"Redshift\")\n",
    "plt.ylabel(\"Counts (Normalized)\")\n",
    "plt.legend(loc=\"best\")\n"
   ]
  }
 ],
 "metadata": {
  "kernelspec": {
   "display_name": "Python 3",
   "language": "python",
   "name": "python3"
  },
  "language_info": {
   "codemirror_mode": {
    "name": "ipython",
    "version": 3
   },
   "file_extension": ".py",
   "mimetype": "text/x-python",
   "name": "python",
   "nbconvert_exporter": "python",
   "pygments_lexer": "ipython3",
   "version": "3.4.3"
  }
 },
 "nbformat": 4,
 "nbformat_minor": 0
}
